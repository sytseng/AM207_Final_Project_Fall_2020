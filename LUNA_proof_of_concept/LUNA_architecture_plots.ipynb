{
 "cells": [
  {
   "cell_type": "code",
   "execution_count": null,
   "metadata": {},
   "outputs": [],
   "source": [
    "import sys; sys.path.insert(0, \"..\")\n",
    "from src.models import NLM, LUNA\n",
    "from src.utils import generate_data\n",
    "from autograd import numpy as np\n",
    "import matplotlib.pyplot as plt\n",
    "\n",
    "import LUNA_architecture_check_series1 as arch"
   ]
  },
  {
   "cell_type": "code",
   "execution_count": null,
   "metadata": {},
   "outputs": [],
   "source": [
    "data_base = sqlite3.connect('LUNA_trained_results_series1.sqlite')\n",
    "cursor = data_base.cursor()\n",
    "## series1 architectures, no need to train, just instantiate:\n",
    "\n",
    "    activation_fn_type = 'relu'\n",
    "    activation_fn = lambda x: np.maximum(np.zeros(x.shape), x)\n",
    "\n",
    "    width = [50,50] # using the architecture used in the paper\n",
    "    hidden_layers = len(width)\n",
    "    input_dim = 1\n",
    "    output_dim = 1\n",
    "\n",
    "    architecture = {\n",
    "        'width': width,\n",
    "        'input_dim': input_dim,\n",
    "        'output_dim': output_dim,\n",
    "        'activation_fn_type': 'relu',\n",
    "        'activation_fn_params': 'rate=1',\n",
    "        'activation_fn': activation_fn,\n",
    "        'auxiliary_functions': 30,\n",
    "    }\n",
    "\n",
    "    rand_state = 207\n",
    "    random = np.random.RandomState(rand_state)\n",
    "\n",
    "    params = {\n",
    "        'step_size':1e-2,\n",
    "        'max_iteration':5000,\n",
    "        'random_restarts':1,\n",
    "        'reg_param':100.,\n",
    "        'lambda_in':100.,\n",
    "    }\n",
    "\n"
   ]
  }
 ],
 "metadata": {
  "kernelspec": {
   "display_name": "Python 3",
   "language": "python",
   "name": "python3"
  },
  "language_info": {
   "codemirror_mode": {
    "name": "ipython",
    "version": 3
   },
   "file_extension": ".py",
   "mimetype": "text/x-python",
   "name": "python",
   "nbconvert_exporter": "python",
   "pygments_lexer": "ipython3",
   "version": "3.8.3"
  }
 },
 "nbformat": 4,
 "nbformat_minor": 4
}
